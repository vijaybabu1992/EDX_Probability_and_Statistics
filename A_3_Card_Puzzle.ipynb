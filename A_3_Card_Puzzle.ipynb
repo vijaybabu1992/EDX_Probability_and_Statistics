{
 "cells": [
  {
   "cell_type": "code",
   "execution_count": 7,
   "id": "c73d9fd1",
   "metadata": {},
   "outputs": [
    {
     "name": "stdout",
     "output_type": "stream",
     "text": [
      "\u001b[41mR\u001b[0m\u001b[41mR\u001b[0m same     \u001b[41mR\u001b[0m\u001b[44mB\u001b[0m different\u001b[41mR\u001b[0m\u001b[41mR\u001b[0m same     \u001b[41mR\u001b[0m\u001b[41mR\u001b[0m same     \u001b[41mR\u001b[0m\u001b[44mB\u001b[0m different\n",
      "\u001b[41mR\u001b[0m\u001b[41mR\u001b[0m same     \u001b[41mR\u001b[0m\u001b[41mR\u001b[0m same     \u001b[41mR\u001b[0m\u001b[41mR\u001b[0m same     \u001b[44mB\u001b[0m\u001b[44mB\u001b[0m same     \u001b[41mR\u001b[0m\u001b[41mR\u001b[0m same     \n",
      "\u001b[44mB\u001b[0m\u001b[41mR\u001b[0m different\u001b[41mR\u001b[0m\u001b[41mR\u001b[0m same     \u001b[41mR\u001b[0m\u001b[44mB\u001b[0m different\u001b[44mB\u001b[0m\u001b[41mR\u001b[0m different\u001b[44mB\u001b[0m\u001b[44mB\u001b[0m same     \n",
      "\u001b[44mB\u001b[0m\u001b[41mR\u001b[0m different\u001b[44mB\u001b[0m\u001b[44mB\u001b[0m same     \u001b[41mR\u001b[0m\u001b[41mR\u001b[0m same     \u001b[44mB\u001b[0m\u001b[44mB\u001b[0m same     \u001b[44mB\u001b[0m\u001b[44mB\u001b[0m same     \n",
      "\u001b[44mB\u001b[0m\u001b[44mB\u001b[0m same     \u001b[44mB\u001b[0m\u001b[41mR\u001b[0m different\u001b[41mR\u001b[0m\u001b[41mR\u001b[0m same     \u001b[44mB\u001b[0m\u001b[44mB\u001b[0m same     \u001b[41mR\u001b[0m\u001b[41mR\u001b[0m same     \n",
      "\u001b[44mB\u001b[0m\u001b[41mR\u001b[0m different\u001b[44mB\u001b[0m\u001b[41mR\u001b[0m different\u001b[41mR\u001b[0m\u001b[41mR\u001b[0m same     \u001b[44mB\u001b[0m\u001b[44mB\u001b[0m same     \u001b[41mR\u001b[0m\u001b[44mB\u001b[0m different\n",
      "\u001b[44mB\u001b[0m\u001b[44mB\u001b[0m same     \u001b[41mR\u001b[0m\u001b[44mB\u001b[0m different\u001b[44mB\u001b[0m\u001b[44mB\u001b[0m same     \u001b[44mB\u001b[0m\u001b[44mB\u001b[0m same     \u001b[41mR\u001b[0m\u001b[41mR\u001b[0m same     \n",
      "\u001b[41mR\u001b[0m\u001b[44mB\u001b[0m different\u001b[44mB\u001b[0m\u001b[41mR\u001b[0m different\u001b[41mR\u001b[0m\u001b[44mB\u001b[0m different\u001b[41mR\u001b[0m\u001b[41mR\u001b[0m same     \u001b[44mB\u001b[0m\u001b[41mR\u001b[0m different\n",
      "\u001b[44mB\u001b[0m\u001b[44mB\u001b[0m same     \u001b[44mB\u001b[0m\u001b[41mR\u001b[0m different\u001b[41mR\u001b[0m\u001b[41mR\u001b[0m same     \u001b[44mB\u001b[0m\u001b[41mR\u001b[0m different\u001b[41mR\u001b[0m\u001b[44mB\u001b[0m different\n",
      "\u001b[44mB\u001b[0m\u001b[44mB\u001b[0m same     \u001b[44mB\u001b[0m\u001b[44mB\u001b[0m same     \u001b[41mR\u001b[0m\u001b[41mR\u001b[0m same     \u001b[41mR\u001b[0m\u001b[41mR\u001b[0m same     \u001b[44mB\u001b[0m\u001b[44mB\u001b[0m same     \n",
      "\n",
      "{'same': 32, 'different': 18}\n"
     ]
    }
   ],
   "source": [
    "red_bck=\"\\x1b[41m%s\\x1b[0m\"\n",
    "blue_bck=\"\\x1b[44m%s\\x1b[0m\"\n",
    "red=red_bck%'R'\n",
    "black=blue_bck%'B'\n",
    "Cards=[(red,black),(red,red),(black,black)]\n",
    "counts={'same':0,'different':0}\n",
    "from random import random\n",
    "for j in range(50):\n",
    "    i=int(random()*3.) # Select a random card\n",
    "    side=int(random()*2.)\n",
    "    C=Cards[i]\n",
    "    if(side==1): # select which side to be \"up\"\n",
    "        C=(C[1],C[0])\n",
    "    same= 'same' if C[0]==C[1] else 'different' # count the number of times the two sides are the same or different.\n",
    "    counts[same]+=1\n",
    "    print(''.join(C)+' %-9s'%same, end='')\n",
    "    if (j+1)%5==0:\n",
    "        print()\n",
    "print()\n",
    "print(counts)\n"
   ]
  },
  {
   "cell_type": "code",
   "execution_count": 8,
   "id": "06a93a26",
   "metadata": {},
   "outputs": [
    {
     "ename": "NameError",
     "evalue": "name 'estimate_prob' is not defined",
     "output_type": "error",
     "traceback": [
      "\u001b[1;31m---------------------------------------------------------------------------\u001b[0m",
      "\u001b[1;31mNameError\u001b[0m                                 Traceback (most recent call last)",
      "Input \u001b[1;32mIn [8]\u001b[0m, in \u001b[0;36m<cell line: 1>\u001b[1;34m()\u001b[0m\n\u001b[1;32m----> 1\u001b[0m \u001b[43mestimate_prob\u001b[49m(\u001b[38;5;241m100\u001b[39m,\u001b[38;5;241m40\u001b[39m,\u001b[38;5;241m60\u001b[39m,\u001b[38;5;241m1000\u001b[39m)\n",
      "\u001b[1;31mNameError\u001b[0m: name 'estimate_prob' is not defined"
     ]
    }
   ],
   "source": [
    "estimate_prob(100,40,60,1000)"
   ]
  },
  {
   "cell_type": "code",
   "execution_count": null,
   "id": "44e96b6d",
   "metadata": {},
   "outputs": [],
   "source": []
  }
 ],
 "metadata": {
  "kernelspec": {
   "display_name": "Python 3 (ipykernel)",
   "language": "python",
   "name": "python3"
  },
  "language_info": {
   "codemirror_mode": {
    "name": "ipython",
    "version": 3
   },
   "file_extension": ".py",
   "mimetype": "text/x-python",
   "name": "python",
   "nbconvert_exporter": "python",
   "pygments_lexer": "ipython3",
   "version": "3.9.12"
  }
 },
 "nbformat": 4,
 "nbformat_minor": 5
}
